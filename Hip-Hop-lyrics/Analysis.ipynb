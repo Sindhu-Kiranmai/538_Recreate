{
 "cells": [
  {
   "cell_type": "markdown",
   "metadata": {},
   "source": [
    "# Introduction\n",
    "This notebook examines hip-hop lyrics as a political genre, specifically mentions of 2016 primary presidential candidates and their shifting hip-hop narrative . The idea is inspired from the raw data behind the story \"Hip-Hop Is Turning On Donald Trump\", by FiveThirtyEight. The dataset and full story can be accessed here: https://github.com/fivethirtyeight/data/tree/master/hip-hop-candidate-lyrics\n",
    "\n",
    "Major sections include - \n",
    "1. Descriptive statistics, Exploratory data analysis\n",
    "2. Sentiment analysis on lyrics\n",
    "    -comparing multiple sentiment lexicons\n",
    "3. Candidate mentions - Sentiment over time\n",
    "    -Linear regressions over presidency and interaction of sentiment mentions over time\n",
    "4. Candidate mentions - Themes/Subjects over time\n",
    "    -Linear regressions over presidency and interaction of thematic mentions over time"
   ]
  },
  {
   "cell_type": "code",
   "execution_count": 1,
   "metadata": {
    "collapsed": true
   },
   "outputs": [],
   "source": [
    "import pandas as pd\n",
    "import numpy as np\n",
    "import matplotlib.pyplot as plt\n",
    "%matplotlib inline \n",
    "pd.set_option('display.max_columns', None)"
   ]
  },
  {
   "cell_type": "code",
   "execution_count": 2,
   "metadata": {
    "collapsed": false
   },
   "outputs": [
    {
     "data": {
      "text/html": [
       "<div>\n",
       "<table border=\"1\" class=\"dataframe\">\n",
       "  <thead>\n",
       "    <tr style=\"text-align: right;\">\n",
       "      <th></th>\n",
       "      <th>candidate</th>\n",
       "      <th>song</th>\n",
       "      <th>artist</th>\n",
       "      <th>sentiment</th>\n",
       "      <th>theme</th>\n",
       "      <th>album_release_date</th>\n",
       "      <th>line</th>\n",
       "      <th>url</th>\n",
       "    </tr>\n",
       "    <tr>\n",
       "      <th>id</th>\n",
       "      <th></th>\n",
       "      <th></th>\n",
       "      <th></th>\n",
       "      <th></th>\n",
       "      <th></th>\n",
       "      <th></th>\n",
       "      <th></th>\n",
       "      <th></th>\n",
       "    </tr>\n",
       "  </thead>\n",
       "  <tbody>\n",
       "    <tr>\n",
       "      <th>1</th>\n",
       "      <td>Mike Huckabee</td>\n",
       "      <td>None Shall Pass</td>\n",
       "      <td>Aesop Rock</td>\n",
       "      <td>neutral</td>\n",
       "      <td>NaN</td>\n",
       "      <td>2011</td>\n",
       "      <td>Wither by the watering hole, Border patrol / W...</td>\n",
       "      <td>http://genius.com/Aesop-rock-none-shall-pass-l...</td>\n",
       "    </tr>\n",
       "    <tr>\n",
       "      <th>2</th>\n",
       "      <td>Mike Huckabee</td>\n",
       "      <td>Wellstone</td>\n",
       "      <td>Soul Khan</td>\n",
       "      <td>negative</td>\n",
       "      <td>NaN</td>\n",
       "      <td>2012</td>\n",
       "      <td>Might find the door but never touch the key / ...</td>\n",
       "      <td>http://genius.com/Soul-khan-wellstone-lyrics</td>\n",
       "    </tr>\n",
       "    <tr>\n",
       "      <th>3</th>\n",
       "      <td>Jeb Bush</td>\n",
       "      <td>Awe</td>\n",
       "      <td>Dez &amp; Nobs</td>\n",
       "      <td>neutral</td>\n",
       "      <td>NaN</td>\n",
       "      <td>2006</td>\n",
       "      <td>I heard Jeb Bush looking for a (inaudible)</td>\n",
       "      <td>http://genius.com/Dez-and-nobs-awe-lyrics</td>\n",
       "    </tr>\n",
       "    <tr>\n",
       "      <th>4</th>\n",
       "      <td>Jeb Bush</td>\n",
       "      <td>The Truth</td>\n",
       "      <td>Diabolic</td>\n",
       "      <td>negative</td>\n",
       "      <td>political</td>\n",
       "      <td>2006</td>\n",
       "      <td>What you heard before ain't as big of a lesson...</td>\n",
       "      <td>http://genius.com/Diabolic-the-truth-lyrics</td>\n",
       "    </tr>\n",
       "    <tr>\n",
       "      <th>5</th>\n",
       "      <td>Jeb Bush</td>\n",
       "      <td>Money Man</td>\n",
       "      <td>Gorilla Zoe</td>\n",
       "      <td>negative</td>\n",
       "      <td>personal</td>\n",
       "      <td>2007</td>\n",
       "      <td>I'm comin back from Florida / Wit Jeb Bush and...</td>\n",
       "      <td>http://genius.com/Gorilla-zoe-money-man-lyrics</td>\n",
       "    </tr>\n",
       "  </tbody>\n",
       "</table>\n",
       "</div>"
      ],
      "text/plain": [
       "        candidate             song       artist sentiment      theme  \\\n",
       "id                                                                     \n",
       "1   Mike Huckabee  None Shall Pass   Aesop Rock   neutral        NaN   \n",
       "2   Mike Huckabee        Wellstone    Soul Khan  negative        NaN   \n",
       "3        Jeb Bush              Awe   Dez & Nobs   neutral        NaN   \n",
       "4        Jeb Bush        The Truth     Diabolic  negative  political   \n",
       "5        Jeb Bush        Money Man  Gorilla Zoe  negative   personal   \n",
       "\n",
       "    album_release_date                                               line  \\\n",
       "id                                                                          \n",
       "1                 2011  Wither by the watering hole, Border patrol / W...   \n",
       "2                 2012  Might find the door but never touch the key / ...   \n",
       "3                 2006         I heard Jeb Bush looking for a (inaudible)   \n",
       "4                 2006  What you heard before ain't as big of a lesson...   \n",
       "5                 2007  I'm comin back from Florida / Wit Jeb Bush and...   \n",
       "\n",
       "                                                  url  \n",
       "id                                                     \n",
       "1   http://genius.com/Aesop-rock-none-shall-pass-l...  \n",
       "2        http://genius.com/Soul-khan-wellstone-lyrics  \n",
       "3           http://genius.com/Dez-and-nobs-awe-lyrics  \n",
       "4         http://genius.com/Diabolic-the-truth-lyrics  \n",
       "5      http://genius.com/Gorilla-zoe-money-man-lyrics  "
      ]
     },
     "execution_count": 2,
     "metadata": {},
     "output_type": "execute_result"
    }
   ],
   "source": [
    "df = pd.read_csv('genius_hip_hop_lyrics.csv', index_col=0)\n",
    "df.head()"
   ]
  },
  {
   "cell_type": "code",
   "execution_count": 3,
   "metadata": {
    "collapsed": false
   },
   "outputs": [
    {
     "data": {
      "text/plain": [
       "array(['Mike Huckabee', 'Jeb Bush', 'Ben Carson', 'Chris Christie',\n",
       "       'Ted Cruz', 'Hillary Clinton', 'Bernie Sanders', 'Donald Trump'], dtype=object)"
      ]
     },
     "execution_count": 3,
     "metadata": {},
     "output_type": "execute_result"
    }
   ],
   "source": [
    "# List of 2016 primary candidates\n",
    "df.candidate.unique()"
   ]
  },
  {
   "cell_type": "code",
   "execution_count": 4,
   "metadata": {
    "collapsed": false
   },
   "outputs": [
    {
     "data": {
      "text/plain": [
       "<matplotlib.text.Text at 0x112a8f3d0>"
      ]
     },
     "execution_count": 4,
     "metadata": {},
     "output_type": "execute_result"
    },
    {
     "data": {
      "image/png": "[encoded data removed]",
      "text/plain": [
       "<matplotlib.figure.Figure at 0x10a483f90>"
      ]
     },
     "metadata": {},
     "output_type": "display_data"
    }
   ],
   "source": [
    "# Get number of mentions for each candidate\n",
    "ax = df['candidate'].value_counts().plot(kind=\"bar\",logy=True, alpha=0.8)\n",
    "ax.set_xlabel(\"Candidates\")\n",
    "ax.set_ylabel(\"Total mentions in hip-hop songs\")"
   ]
  },
  {
   "cell_type": "markdown",
   "metadata": {},
   "source": [
    "### Temporal analysis of every mention of 2016 primary candidates in hip-hop songs"
   ]
  },
  {
   "cell_type": "code",
   "execution_count": 5,
   "metadata": {
    "collapsed": false
   },
   "outputs": [
    {
     "data": {
      "text/plain": [
       "<matplotlib.legend.Legend at 0x11289e950>"
      ]
     },
     "execution_count": 5,
     "metadata": {},
     "output_type": "execute_result"
    },
    {
     "data": {
      "image/png": "[encoded data removed]",
      "text/plain": [
       "<matplotlib.figure.Figure at 0x11289ea10>"
      ]
     },
     "metadata": {},
     "output_type": "display_data"
    }
   ],
   "source": [
    "df.groupby(['album_release_date', 'candidate']).size().unstack().plot(kind='bar', stacked=True, colormap='Paired', figsize=(9,5)).legend(loc='center left', bbox_to_anchor=(1, 0.5))"
   ]
  },
  {
   "cell_type": "markdown",
   "metadata": {},
   "source": [
    "Trump's prominence and longevity as a figure in hip-hop is staggering. He and his brand have been referenced in a total of 266 songs dating back to 1989."
   ]
  },
  {
   "cell_type": "markdown",
   "metadata": {},
   "source": [
    "## Sentiment analysis on lyrics -comparing multiple sentiment lexicons\n",
    "To see whether the hip-hop narratives around the candidates were changing in the run-up to the 2016 election, the dataset includes sentiment annotations for every reference as positive, negative or neutral. First, let's test how well different sentiment lexicons work on hip-hop lyrics taking the human annotations as ground truth."
   ]
  },
  {
   "cell_type": "code",
   "execution_count": 6,
   "metadata": {
    "collapsed": true
   },
   "outputs": [],
   "source": [
    "from nltk.corpus import opinion_lexicon"
   ]
  },
  {
   "cell_type": "code",
   "execution_count": 7,
   "metadata": {
    "collapsed": false
   },
   "outputs": [
    {
     "data": {
      "text/plain": [
       "[u'a+', u'abound', u'abounds', u'abundance', ...]"
      ]
     },
     "execution_count": 7,
     "metadata": {},
     "output_type": "execute_result"
    }
   ],
   "source": [
    "opinion_lexicon.positive()"
   ]
  },
  {
   "cell_type": "code",
   "execution_count": 8,
   "metadata": {
    "collapsed": false
   },
   "outputs": [
    {
     "data": {
      "text/plain": [
       "[u'2-faced', u'2-faces', u'abnormal', u'abolish', ...]"
      ]
     },
     "execution_count": 8,
     "metadata": {},
     "output_type": "execute_result"
    }
   ],
   "source": [
    "opinion_lexicon.negative()"
   ]
  },
  {
   "cell_type": "code",
   "execution_count": 9,
   "metadata": {
    "collapsed": false
   },
   "outputs": [
    {
     "data": {
      "text/plain": [
       "['What',\n",
       " 'you',\n",
       " 'heard',\n",
       " 'before',\n",
       " \"ain't\",\n",
       " 'as',\n",
       " 'big',\n",
       " 'of',\n",
       " 'a',\n",
       " 'lesson',\n",
       " '/',\n",
       " 'As',\n",
       " 'George',\n",
       " 'and',\n",
       " 'Jeb',\n",
       " 'Bush',\n",
       " 'rigging',\n",
       " 'elections']"
      ]
     },
     "execution_count": 9,
     "metadata": {},
     "output_type": "execute_result"
    }
   ],
   "source": [
    "#White space tokenize\n",
    "df.loc[4]['line'].split(' ')"
   ]
  },
  {
   "cell_type": "code",
   "execution_count": 10,
   "metadata": {
    "collapsed": true
   },
   "outputs": [],
   "source": [
    "# white space tokenization seems to work fine. Function call to the intersection of tokens and opinion lexicon\n",
    "def count_words_sets(text,lex_list):\n",
    "    assert(type(lex_list) == list)\n",
    "    tokens = set([token.lower() for token in text.split(' ')])\n",
    "    return [len(tokens.intersection(lex)) for lex in lex_list]"
   ]
  },
  {
   "cell_type": "code",
   "execution_count": 11,
   "metadata": {
    "collapsed": true
   },
   "outputs": [],
   "source": [
    "neg_set = set(opinion_lexicon.negative())\n",
    "pos_set = set(opinion_lexicon.positive())"
   ]
  },
  {
   "cell_type": "code",
   "execution_count": 12,
   "metadata": {
    "collapsed": false
   },
   "outputs": [],
   "source": [
    "counts = [count_words_sets(text,[pos_set,neg_set]) for text in df['line']]"
   ]
  },
  {
   "cell_type": "code",
   "execution_count": 13,
   "metadata": {
    "collapsed": true
   },
   "outputs": [],
   "source": [
    "df = df.assign(pos_words = [count[0] for count in counts])\n",
    "df = df.assign(neg_words = [count[1] for count in counts])"
   ]
  },
  {
   "cell_type": "code",
   "execution_count": 14,
   "metadata": {
    "collapsed": false
   },
   "outputs": [
    {
     "data": {
      "text/html": [
       "<div>\n",
       "<table border=\"1\" class=\"dataframe\">\n",
       "  <thead>\n",
       "    <tr style=\"text-align: right;\">\n",
       "      <th></th>\n",
       "      <th>candidate</th>\n",
       "      <th>song</th>\n",
       "      <th>artist</th>\n",
       "      <th>sentiment</th>\n",
       "      <th>theme</th>\n",
       "      <th>album_release_date</th>\n",
       "      <th>line</th>\n",
       "      <th>url</th>\n",
       "      <th>pos_words</th>\n",
       "      <th>neg_words</th>\n",
       "    </tr>\n",
       "    <tr>\n",
       "      <th>id</th>\n",
       "      <th></th>\n",
       "      <th></th>\n",
       "      <th></th>\n",
       "      <th></th>\n",
       "      <th></th>\n",
       "      <th></th>\n",
       "      <th></th>\n",
       "      <th></th>\n",
       "      <th></th>\n",
       "      <th></th>\n",
       "    </tr>\n",
       "  </thead>\n",
       "  <tbody>\n",
       "    <tr>\n",
       "      <th>1</th>\n",
       "      <td>Mike Huckabee</td>\n",
       "      <td>None Shall Pass</td>\n",
       "      <td>Aesop Rock</td>\n",
       "      <td>neutral</td>\n",
       "      <td>NaN</td>\n",
       "      <td>2011</td>\n",
       "      <td>Wither by the watering hole, Border patrol / W...</td>\n",
       "      <td>http://genius.com/Aesop-rock-none-shall-pass-l...</td>\n",
       "      <td>0</td>\n",
       "      <td>0</td>\n",
       "    </tr>\n",
       "    <tr>\n",
       "      <th>2</th>\n",
       "      <td>Mike Huckabee</td>\n",
       "      <td>Wellstone</td>\n",
       "      <td>Soul Khan</td>\n",
       "      <td>negative</td>\n",
       "      <td>NaN</td>\n",
       "      <td>2012</td>\n",
       "      <td>Might find the door but never touch the key / ...</td>\n",
       "      <td>http://genius.com/Soul-khan-wellstone-lyrics</td>\n",
       "      <td>1</td>\n",
       "      <td>1</td>\n",
       "    </tr>\n",
       "    <tr>\n",
       "      <th>3</th>\n",
       "      <td>Jeb Bush</td>\n",
       "      <td>Awe</td>\n",
       "      <td>Dez &amp; Nobs</td>\n",
       "      <td>neutral</td>\n",
       "      <td>NaN</td>\n",
       "      <td>2006</td>\n",
       "      <td>I heard Jeb Bush looking for a (inaudible)</td>\n",
       "      <td>http://genius.com/Dez-and-nobs-awe-lyrics</td>\n",
       "      <td>0</td>\n",
       "      <td>0</td>\n",
       "    </tr>\n",
       "    <tr>\n",
       "      <th>4</th>\n",
       "      <td>Jeb Bush</td>\n",
       "      <td>The Truth</td>\n",
       "      <td>Diabolic</td>\n",
       "      <td>negative</td>\n",
       "      <td>political</td>\n",
       "      <td>2006</td>\n",
       "      <td>What you heard before ain't as big of a lesson...</td>\n",
       "      <td>http://genius.com/Diabolic-the-truth-lyrics</td>\n",
       "      <td>0</td>\n",
       "      <td>0</td>\n",
       "    </tr>\n",
       "    <tr>\n",
       "      <th>5</th>\n",
       "      <td>Jeb Bush</td>\n",
       "      <td>Money Man</td>\n",
       "      <td>Gorilla Zoe</td>\n",
       "      <td>negative</td>\n",
       "      <td>personal</td>\n",
       "      <td>2007</td>\n",
       "      <td>I'm comin back from Florida / Wit Jeb Bush and...</td>\n",
       "      <td>http://genius.com/Gorilla-zoe-money-man-lyrics</td>\n",
       "      <td>0</td>\n",
       "      <td>0</td>\n",
       "    </tr>\n",
       "  </tbody>\n",
       "</table>\n",
       "</div>"
      ],
      "text/plain": [
       "        candidate             song       artist sentiment      theme  \\\n",
       "id                                                                     \n",
       "1   Mike Huckabee  None Shall Pass   Aesop Rock   neutral        NaN   \n",
       "2   Mike Huckabee        Wellstone    Soul Khan  negative        NaN   \n",
       "3        Jeb Bush              Awe   Dez & Nobs   neutral        NaN   \n",
       "4        Jeb Bush        The Truth     Diabolic  negative  political   \n",
       "5        Jeb Bush        Money Man  Gorilla Zoe  negative   personal   \n",
       "\n",
       "    album_release_date                                               line  \\\n",
       "id                                                                          \n",
       "1                 2011  Wither by the watering hole, Border patrol / W...   \n",
       "2                 2012  Might find the door but never touch the key / ...   \n",
       "3                 2006         I heard Jeb Bush looking for a (inaudible)   \n",
       "4                 2006  What you heard before ain't as big of a lesson...   \n",
       "5                 2007  I'm comin back from Florida / Wit Jeb Bush and...   \n",
       "\n",
       "                                                  url  pos_words  neg_words  \n",
       "id                                                                           \n",
       "1   http://genius.com/Aesop-rock-none-shall-pass-l...          0          0  \n",
       "2        http://genius.com/Soul-khan-wellstone-lyrics          1          1  \n",
       "3           http://genius.com/Dez-and-nobs-awe-lyrics          0          0  \n",
       "4         http://genius.com/Diabolic-the-truth-lyrics          0          0  \n",
       "5      http://genius.com/Gorilla-zoe-money-man-lyrics          0          0  "
      ]
     },
     "execution_count": 14,
     "metadata": {},
     "output_type": "execute_result"
    }
   ],
   "source": [
    "df.head()"
   ]
  },
  {
   "cell_type": "code",
   "execution_count": 15,
   "metadata": {
    "collapsed": false
   },
   "outputs": [],
   "source": [
    "preds = []\n",
    "for index,row in df.iterrows():\n",
    "    if row['pos_words'] < row['neg_words']:\n",
    "        preds.append('negative')\n",
    "    elif row['pos_words'] > row['neg_words']:\n",
    "        preds.append('positive')\n",
    "    else:\n",
    "        preds.append('neutral')\n",
    "df['predicted_sentiment'] = preds\n",
    "#df.head()"
   ]
  },
  {
   "cell_type": "markdown",
   "metadata": {},
   "source": [
    "Classifier performance -"
   ]
  },
  {
   "cell_type": "code",
   "execution_count": 16,
   "metadata": {
    "collapsed": false
   },
   "outputs": [
    {
     "data": {
      "text/plain": [
       "positive    178\n",
       "neutral     128\n",
       "negative     71\n",
       "Name: sentiment, dtype: int64"
      ]
     },
     "execution_count": 16,
     "metadata": {},
     "output_type": "execute_result"
    }
   ],
   "source": [
    "#Baseline performance by majority class\n",
    "df['sentiment'].value_counts()"
   ]
  },
  {
   "cell_type": "markdown",
   "metadata": {},
   "source": [
    "Baseline accuracy by predicting majority class would be 178/377 = 0.472"
   ]
  },
  {
   "cell_type": "code",
   "execution_count": 17,
   "metadata": {
    "collapsed": false
   },
   "outputs": [
    {
     "name": "stdout",
     "output_type": "stream",
     "text": [
      "Accuracy on nltk opinion lexicon: 0.5385\n"
     ]
    }
   ],
   "source": [
    "acc=(df['predicted_sentiment']==df['sentiment']).mean()\n",
    "print('Accuracy on nltk opinion lexicon: %.4f'%acc)"
   ]
  },
  {
   "cell_type": "markdown",
   "metadata": {},
   "source": [
    "Let's try a domain specific sentiment lexicon. SocialSent at Stanford University provides Community-specific sentiment lexicons for the 250 largest subreddit communities from reddit.com. We pick the sentiment lexicon for r/Music which is a subreddit dedicated to discussions on music. Lexicon available at: https://nlp.stanford.edu/projects/socialsent/"
   ]
  },
  {
   "cell_type": "code",
   "execution_count": 18,
   "metadata": {
    "collapsed": false
   },
   "outputs": [
    {
     "data": {
      "text/html": [
       "<div>\n",
       "<table border=\"1\" class=\"dataframe\">\n",
       "  <thead>\n",
       "    <tr style=\"text-align: right;\">\n",
       "      <th></th>\n",
       "      <th>token</th>\n",
       "      <th>meansenti</th>\n",
       "      <th>stdsenti</th>\n",
       "    </tr>\n",
       "  </thead>\n",
       "  <tbody>\n",
       "    <tr>\n",
       "      <th>0</th>\n",
       "      <td>nickleback</td>\n",
       "      <td>-5.93</td>\n",
       "      <td>1.08</td>\n",
       "    </tr>\n",
       "    <tr>\n",
       "      <th>1</th>\n",
       "      <td>dislike</td>\n",
       "      <td>-5.87</td>\n",
       "      <td>0.83</td>\n",
       "    </tr>\n",
       "    <tr>\n",
       "      <th>2</th>\n",
       "      <td>creed</td>\n",
       "      <td>-5.75</td>\n",
       "      <td>1.07</td>\n",
       "    </tr>\n",
       "    <tr>\n",
       "      <th>3</th>\n",
       "      <td>nickelback</td>\n",
       "      <td>-5.54</td>\n",
       "      <td>1.07</td>\n",
       "    </tr>\n",
       "    <tr>\n",
       "      <th>4</th>\n",
       "      <td>hating</td>\n",
       "      <td>-5.48</td>\n",
       "      <td>1.26</td>\n",
       "    </tr>\n",
       "  </tbody>\n",
       "</table>\n",
       "</div>"
      ],
      "text/plain": [
       "        token  meansenti  stdsenti\n",
       "0  nickleback      -5.93      1.08\n",
       "1     dislike      -5.87      0.83\n",
       "2       creed      -5.75      1.07\n",
       "3  nickelback      -5.54      1.07\n",
       "4      hating      -5.48      1.26"
      ]
     },
     "execution_count": 18,
     "metadata": {},
     "output_type": "execute_result"
    }
   ],
   "source": [
    "music_senti_lexicon = pd.read_csv('Music.tsv',sep='\\t',header=None,names=['token','meansenti','stdsenti'])\n",
    "music_senti_lexicon.head()"
   ]
  },
  {
   "cell_type": "code",
   "execution_count": 19,
   "metadata": {
    "collapsed": true
   },
   "outputs": [],
   "source": [
    "#function to label sentiment based on word counts\n",
    "def label_domain_sentiment(row):\n",
    "    if row['meansenti'] < 0:\n",
    "        return 'negative'\n",
    "    elif row['meansenti'] > 0:\n",
    "        return 'positive'"
   ]
  },
  {
   "cell_type": "code",
   "execution_count": 20,
   "metadata": {
    "collapsed": false
   },
   "outputs": [
    {
     "data": {
      "text/plain": [
       "positive    2711\n",
       "negative    2240\n",
       "Name: senti, dtype: int64"
      ]
     },
     "execution_count": 20,
     "metadata": {},
     "output_type": "execute_result"
    }
   ],
   "source": [
    "music_senti_lexicon['senti'] = music_senti_lexicon.apply (lambda row: label_domain_sentiment (row),axis=1)\n",
    "music_senti_lexicon.head()\n",
    "music_senti_lexicon['senti'].value_counts()"
   ]
  },
  {
   "cell_type": "code",
   "execution_count": 21,
   "metadata": {
    "collapsed": false
   },
   "outputs": [
    {
     "data": {
      "text/plain": [
       "(2711, 2240)"
      ]
     },
     "execution_count": 21,
     "metadata": {},
     "output_type": "execute_result"
    }
   ],
   "source": [
    "positive_lexicon = set(music_senti_lexicon.loc[music_senti_lexicon['senti']=='positive']['token'])\n",
    "negative_lexicon = set(music_senti_lexicon.loc[music_senti_lexicon['senti']=='negative']['token'])\n",
    "len(positive_lexicon), len(negative_lexicon)"
   ]
  },
  {
   "cell_type": "code",
   "execution_count": 22,
   "metadata": {
    "collapsed": true
   },
   "outputs": [],
   "source": [
    "counts1 = [count_words_sets(text,[positive_lexicon,negative_lexicon]) for text in df['line']]"
   ]
  },
  {
   "cell_type": "code",
   "execution_count": 23,
   "metadata": {
    "collapsed": false
   },
   "outputs": [],
   "source": [
    "df = df.assign(pos_words_music = [count[0] for count in counts1])\n",
    "df = df.assign(neg_words_music = [count[1] for count in counts1])\n",
    "#df.head()"
   ]
  },
  {
   "cell_type": "code",
   "execution_count": 24,
   "metadata": {
    "collapsed": false
   },
   "outputs": [],
   "source": [
    "preds_music = []\n",
    "for index,row in df.iterrows():\n",
    "    if row['pos_words_music'] < row['neg_words_music']:\n",
    "        preds_music.append('negative')\n",
    "    elif row['pos_words_music'] > row['neg_words_music']:\n",
    "        preds_music.append('positive')\n",
    "    else:\n",
    "        preds_music.append('neutral')\n",
    "df['predicted_sentiment_music'] = preds_music"
   ]
  },
  {
   "cell_type": "code",
   "execution_count": 25,
   "metadata": {
    "collapsed": false,
    "scrolled": true
   },
   "outputs": [
    {
     "data": {
      "text/html": [
       "<div>\n",
       "<table border=\"1\" class=\"dataframe\">\n",
       "  <thead>\n",
       "    <tr style=\"text-align: right;\">\n",
       "      <th></th>\n",
       "      <th>candidate</th>\n",
       "      <th>song</th>\n",
       "      <th>artist</th>\n",
       "      <th>sentiment</th>\n",
       "      <th>theme</th>\n",
       "      <th>album_release_date</th>\n",
       "      <th>line</th>\n",
       "      <th>url</th>\n",
       "      <th>pos_words</th>\n",
       "      <th>neg_words</th>\n",
       "      <th>predicted_sentiment</th>\n",
       "      <th>pos_words_music</th>\n",
       "      <th>neg_words_music</th>\n",
       "      <th>predicted_sentiment_music</th>\n",
       "    </tr>\n",
       "    <tr>\n",
       "      <th>id</th>\n",
       "      <th></th>\n",
       "      <th></th>\n",
       "      <th></th>\n",
       "      <th></th>\n",
       "      <th></th>\n",
       "      <th></th>\n",
       "      <th></th>\n",
       "      <th></th>\n",
       "      <th></th>\n",
       "      <th></th>\n",
       "      <th></th>\n",
       "      <th></th>\n",
       "      <th></th>\n",
       "      <th></th>\n",
       "    </tr>\n",
       "  </thead>\n",
       "  <tbody>\n",
       "    <tr>\n",
       "      <th>1</th>\n",
       "      <td>Mike Huckabee</td>\n",
       "      <td>None Shall Pass</td>\n",
       "      <td>Aesop Rock</td>\n",
       "      <td>neutral</td>\n",
       "      <td>NaN</td>\n",
       "      <td>2011</td>\n",
       "      <td>Wither by the watering hole, Border patrol / W...</td>\n",
       "      <td>http://genius.com/Aesop-rock-none-shall-pass-l...</td>\n",
       "      <td>0</td>\n",
       "      <td>0</td>\n",
       "      <td>neutral</td>\n",
       "      <td>2</td>\n",
       "      <td>2</td>\n",
       "      <td>neutral</td>\n",
       "    </tr>\n",
       "    <tr>\n",
       "      <th>2</th>\n",
       "      <td>Mike Huckabee</td>\n",
       "      <td>Wellstone</td>\n",
       "      <td>Soul Khan</td>\n",
       "      <td>negative</td>\n",
       "      <td>NaN</td>\n",
       "      <td>2012</td>\n",
       "      <td>Might find the door but never touch the key / ...</td>\n",
       "      <td>http://genius.com/Soul-khan-wellstone-lyrics</td>\n",
       "      <td>1</td>\n",
       "      <td>1</td>\n",
       "      <td>neutral</td>\n",
       "      <td>2</td>\n",
       "      <td>7</td>\n",
       "      <td>negative</td>\n",
       "    </tr>\n",
       "    <tr>\n",
       "      <th>3</th>\n",
       "      <td>Jeb Bush</td>\n",
       "      <td>Awe</td>\n",
       "      <td>Dez &amp; Nobs</td>\n",
       "      <td>neutral</td>\n",
       "      <td>NaN</td>\n",
       "      <td>2006</td>\n",
       "      <td>I heard Jeb Bush looking for a (inaudible)</td>\n",
       "      <td>http://genius.com/Dez-and-nobs-awe-lyrics</td>\n",
       "      <td>0</td>\n",
       "      <td>0</td>\n",
       "      <td>neutral</td>\n",
       "      <td>0</td>\n",
       "      <td>3</td>\n",
       "      <td>negative</td>\n",
       "    </tr>\n",
       "    <tr>\n",
       "      <th>4</th>\n",
       "      <td>Jeb Bush</td>\n",
       "      <td>The Truth</td>\n",
       "      <td>Diabolic</td>\n",
       "      <td>negative</td>\n",
       "      <td>political</td>\n",
       "      <td>2006</td>\n",
       "      <td>What you heard before ain't as big of a lesson...</td>\n",
       "      <td>http://genius.com/Diabolic-the-truth-lyrics</td>\n",
       "      <td>0</td>\n",
       "      <td>0</td>\n",
       "      <td>neutral</td>\n",
       "      <td>3</td>\n",
       "      <td>5</td>\n",
       "      <td>negative</td>\n",
       "    </tr>\n",
       "    <tr>\n",
       "      <th>5</th>\n",
       "      <td>Jeb Bush</td>\n",
       "      <td>Money Man</td>\n",
       "      <td>Gorilla Zoe</td>\n",
       "      <td>negative</td>\n",
       "      <td>personal</td>\n",
       "      <td>2007</td>\n",
       "      <td>I'm comin back from Florida / Wit Jeb Bush and...</td>\n",
       "      <td>http://genius.com/Gorilla-zoe-money-man-lyrics</td>\n",
       "      <td>0</td>\n",
       "      <td>0</td>\n",
       "      <td>neutral</td>\n",
       "      <td>5</td>\n",
       "      <td>2</td>\n",
       "      <td>positive</td>\n",
       "    </tr>\n",
       "  </tbody>\n",
       "</table>\n",
       "</div>"
      ],
      "text/plain": [
       "        candidate             song       artist sentiment      theme  \\\n",
       "id                                                                     \n",
       "1   Mike Huckabee  None Shall Pass   Aesop Rock   neutral        NaN   \n",
       "2   Mike Huckabee        Wellstone    Soul Khan  negative        NaN   \n",
       "3        Jeb Bush              Awe   Dez & Nobs   neutral        NaN   \n",
       "4        Jeb Bush        The Truth     Diabolic  negative  political   \n",
       "5        Jeb Bush        Money Man  Gorilla Zoe  negative   personal   \n",
       "\n",
       "    album_release_date                                               line  \\\n",
       "id                                                                          \n",
       "1                 2011  Wither by the watering hole, Border patrol / W...   \n",
       "2                 2012  Might find the door but never touch the key / ...   \n",
       "3                 2006         I heard Jeb Bush looking for a (inaudible)   \n",
       "4                 2006  What you heard before ain't as big of a lesson...   \n",
       "5                 2007  I'm comin back from Florida / Wit Jeb Bush and...   \n",
       "\n",
       "                                                  url  pos_words  neg_words  \\\n",
       "id                                                                            \n",
       "1   http://genius.com/Aesop-rock-none-shall-pass-l...          0          0   \n",
       "2        http://genius.com/Soul-khan-wellstone-lyrics          1          1   \n",
       "3           http://genius.com/Dez-and-nobs-awe-lyrics          0          0   \n",
       "4         http://genius.com/Diabolic-the-truth-lyrics          0          0   \n",
       "5      http://genius.com/Gorilla-zoe-money-man-lyrics          0          0   \n",
       "\n",
       "   predicted_sentiment  pos_words_music  neg_words_music  \\\n",
       "id                                                         \n",
       "1              neutral                2                2   \n",
       "2              neutral                2                7   \n",
       "3              neutral                0                3   \n",
       "4              neutral                3                5   \n",
       "5              neutral                5                2   \n",
       "\n",
       "   predicted_sentiment_music  \n",
       "id                            \n",
       "1                    neutral  \n",
       "2                   negative  \n",
       "3                   negative  \n",
       "4                   negative  \n",
       "5                   positive  "
      ]
     },
     "execution_count": 25,
     "metadata": {},
     "output_type": "execute_result"
    }
   ],
   "source": [
    "df.head()"
   ]
  },
  {
   "cell_type": "code",
   "execution_count": 26,
   "metadata": {
    "collapsed": false
   },
   "outputs": [
    {
     "name": "stdout",
     "output_type": "stream",
     "text": [
      "Accuracy on r/music sentiment lexicon: 0.2971\n"
     ]
    }
   ],
   "source": [
    "acc=(df['predicted_sentiment_music']==df['sentiment']).mean()\n",
    "print('Accuracy on r/music sentiment lexicon: %.4f'%acc)"
   ]
  },
  {
   "cell_type": "markdown",
   "metadata": {},
   "source": [
    "Domain specific sentiment lexicon is performing much worse. Why? The lines from lyrics seem to be have more general english tokens. Whereas, the r/music lexicon has very specific tokens, trained on discussions on music. It performs poorly when applied to a different domain, here - hip-hop lyrics."
   ]
  },
  {
   "cell_type": "markdown",
   "metadata": {},
   "source": [
    "## Candidate mentions, by sentiment over time"
   ]
  },
  {
   "cell_type": "code",
   "execution_count": 27,
   "metadata": {
    "collapsed": false
   },
   "outputs": [
    {
     "data": {
      "text/plain": [
       "<matplotlib.text.Text at 0x11ab53150>"
      ]
     },
     "execution_count": 27,
     "metadata": {},
     "output_type": "execute_result"
    },
    {
     "data": {
      "image/png": "[encoded data removed]",
      "text/plain": [
       "<matplotlib.figure.Figure at 0x11a935c50>"
      ]
     },
     "metadata": {},
     "output_type": "display_data"
    }
   ],
   "source": [
    "sentiment_over_time = df.groupby(['album_release_date', 'sentiment','candidate']).size().reset_index(name='mentions')\n",
    "posdf = sentiment_over_time[sentiment_over_time.sentiment == 'positive']\n",
    "posdf.pivot_table(index='album_release_date', columns='candidate', values='mentions', aggfunc='sum').plot.bar(rot=90, stacked=True,colormap='Paired',figsize=(7,4)).legend(loc='center left', bbox_to_anchor=(1, 0.5))\n",
    "plt.title('Positive sentiment over time')"
   ]
  },
  {
   "cell_type": "code",
   "execution_count": 28,
   "metadata": {
    "collapsed": false
   },
   "outputs": [
    {
     "data": {
      "text/plain": [
       "<matplotlib.text.Text at 0x11aedbed0>"
      ]
     },
     "execution_count": 28,
     "metadata": {},
     "output_type": "execute_result"
    },
    {
     "data": {
      "image/png": "[encoded data removed]",
      "text/plain": [
       "<matplotlib.figure.Figure at 0x11a9a5390>"
      ]
     },
     "metadata": {},
     "output_type": "display_data"
    }
   ],
   "source": [
    "negdf = sentiment_over_time[sentiment_over_time.sentiment == 'negative']\n",
    "negdf.pivot_table(index='album_release_date', columns='candidate', values='mentions', aggfunc='sum').plot.bar(rot=90, stacked=True,colormap='Paired',figsize=(7,4)).legend(loc='center left', bbox_to_anchor=(1, 0.5))\n",
    "plt.title('Negative sentiment over time')"
   ]
  },
  {
   "cell_type": "code",
   "execution_count": 29,
   "metadata": {
    "collapsed": false
   },
   "outputs": [
    {
     "data": {
      "text/plain": [
       "<matplotlib.text.Text at 0x11b5d3c90>"
      ]
     },
     "execution_count": 29,
     "metadata": {},
     "output_type": "execute_result"
    },
    {
     "data": {
      "image/png": "[encoded data removed]",
      "text/plain": [
       "<matplotlib.figure.Figure at 0x11a935b90>"
      ]
     },
     "metadata": {},
     "output_type": "display_data"
    }
   ],
   "source": [
    "neudf = sentiment_over_time[sentiment_over_time.sentiment == 'neutral']\n",
    "neudf.pivot_table(index='album_release_date', columns='candidate', values='mentions', aggfunc='sum').plot.bar(rot=90, stacked=True,colormap='Paired',figsize=(7,4)).legend(loc='center left', bbox_to_anchor=(1, 0.5))\n",
    "plt.title('Neutral sentiment over time')"
   ]
  },
  {
   "cell_type": "markdown",
   "metadata": {},
   "source": [
    "Things start to look a little different for Trump in 2015. Before 2015, Trump had received only eight negative references in total; over the last year and a half, however, that number almost quadrupled in 2015. This is a reflection of a chance in his public persona from being a business tycoon to a politician (now making controversial statements around race, immigration etc). Hillary has a sweeping negative sentiment in 2008, from all the hip-hop lyrics during that year. This could be a reflection of the racial politics associated with her during the 2008 elections. Let's see if the polarity of mentions in hip-hop songs are predictive of presidency of the candidate."
   ]
  },
  {
   "cell_type": "code",
   "execution_count": 30,
   "metadata": {
    "collapsed": false
   },
   "outputs": [
    {
     "data": {
      "text/html": [
       "<div>\n",
       "<table border=\"1\" class=\"dataframe\">\n",
       "  <thead>\n",
       "    <tr style=\"text-align: right;\">\n",
       "      <th></th>\n",
       "      <th>album_release_date</th>\n",
       "      <th>sentiment</th>\n",
       "      <th>candidate</th>\n",
       "      <th>mentions</th>\n",
       "      <th>presidency</th>\n",
       "    </tr>\n",
       "  </thead>\n",
       "  <tbody>\n",
       "    <tr>\n",
       "      <th>0</th>\n",
       "      <td>1989</td>\n",
       "      <td>neutral</td>\n",
       "      <td>Donald Trump</td>\n",
       "      <td>1</td>\n",
       "      <td>1</td>\n",
       "    </tr>\n",
       "    <tr>\n",
       "      <th>1</th>\n",
       "      <td>1989</td>\n",
       "      <td>positive</td>\n",
       "      <td>Donald Trump</td>\n",
       "      <td>2</td>\n",
       "      <td>1</td>\n",
       "    </tr>\n",
       "    <tr>\n",
       "      <th>2</th>\n",
       "      <td>1990</td>\n",
       "      <td>positive</td>\n",
       "      <td>Donald Trump</td>\n",
       "      <td>2</td>\n",
       "      <td>1</td>\n",
       "    </tr>\n",
       "    <tr>\n",
       "      <th>3</th>\n",
       "      <td>1991</td>\n",
       "      <td>positive</td>\n",
       "      <td>Donald Trump</td>\n",
       "      <td>2</td>\n",
       "      <td>1</td>\n",
       "    </tr>\n",
       "    <tr>\n",
       "      <th>4</th>\n",
       "      <td>1992</td>\n",
       "      <td>neutral</td>\n",
       "      <td>Donald Trump</td>\n",
       "      <td>1</td>\n",
       "      <td>1</td>\n",
       "    </tr>\n",
       "    <tr>\n",
       "      <th>5</th>\n",
       "      <td>1992</td>\n",
       "      <td>positive</td>\n",
       "      <td>Donald Trump</td>\n",
       "      <td>3</td>\n",
       "      <td>1</td>\n",
       "    </tr>\n",
       "    <tr>\n",
       "      <th>6</th>\n",
       "      <td>1993</td>\n",
       "      <td>negative</td>\n",
       "      <td>Donald Trump</td>\n",
       "      <td>1</td>\n",
       "      <td>1</td>\n",
       "    </tr>\n",
       "    <tr>\n",
       "      <th>7</th>\n",
       "      <td>1993</td>\n",
       "      <td>negative</td>\n",
       "      <td>Hillary Clinton</td>\n",
       "      <td>2</td>\n",
       "      <td>0</td>\n",
       "    </tr>\n",
       "    <tr>\n",
       "      <th>8</th>\n",
       "      <td>1994</td>\n",
       "      <td>negative</td>\n",
       "      <td>Hillary Clinton</td>\n",
       "      <td>2</td>\n",
       "      <td>0</td>\n",
       "    </tr>\n",
       "    <tr>\n",
       "      <th>9</th>\n",
       "      <td>1994</td>\n",
       "      <td>positive</td>\n",
       "      <td>Donald Trump</td>\n",
       "      <td>3</td>\n",
       "      <td>1</td>\n",
       "    </tr>\n",
       "  </tbody>\n",
       "</table>\n",
       "</div>"
      ],
      "text/plain": [
       "   album_release_date sentiment        candidate  mentions  presidency\n",
       "0                1989   neutral     Donald Trump         1           1\n",
       "1                1989  positive     Donald Trump         2           1\n",
       "2                1990  positive     Donald Trump         2           1\n",
       "3                1991  positive     Donald Trump         2           1\n",
       "4                1992   neutral     Donald Trump         1           1\n",
       "5                1992  positive     Donald Trump         3           1\n",
       "6                1993  negative     Donald Trump         1           1\n",
       "7                1993  negative  Hillary Clinton         2           0\n",
       "8                1994  negative  Hillary Clinton         2           0\n",
       "9                1994  positive     Donald Trump         3           1"
      ]
     },
     "execution_count": 30,
     "metadata": {},
     "output_type": "execute_result"
    }
   ],
   "source": [
    "#Adding column for candidates who won the presidency\n",
    "elected_presidents =  ['Donald Trump']\n",
    "def label_president(row):\n",
    "    if row['candidate'] == 'Donald Trump':\n",
    "        return 1\n",
    "    else:\n",
    "        return 0\n",
    "sentiment_over_time['presidency'] = sentiment_over_time.apply (lambda row: label_president (row),axis=1)\n",
    "sentiment_over_time.head(10)"
   ]
  },
  {
   "cell_type": "code",
   "execution_count": 31,
   "metadata": {
    "collapsed": false
   },
   "outputs": [
    {
     "data": {
      "text/html": [
       "<table class=\"simpletable\">\n",
       "<tr>\n",
       "        <td>Model:</td>               <td>OLS</td>         <td>Adj. R-squared:</td>     <td>0.028</td> \n",
       "</tr>\n",
       "<tr>\n",
       "  <td>Dependent Variable:</td>    <td>presidency</td>           <td>AIC:</td>         <td>165.1265</td>\n",
       "</tr>\n",
       "<tr>\n",
       "         <td>Date:</td>        <td>2017-09-22 16:33</td>        <td>BIC:</td>         <td>170.5989</td>\n",
       "</tr>\n",
       "<tr>\n",
       "   <td>No. Observations:</td>         <td>114</td>         <td>Log-Likelihood:</td>    <td>-80.563</td>\n",
       "</tr>\n",
       "<tr>\n",
       "       <td>Df Model:</td>              <td>1</td>           <td>F-statistic:</td>       <td>4.217</td> \n",
       "</tr>\n",
       "<tr>\n",
       "     <td>Df Residuals:</td>           <td>112</td>       <td>Prob (F-statistic):</td>  <td>0.0423</td> \n",
       "</tr>\n",
       "<tr>\n",
       "      <td>R-squared:</td>            <td>0.036</td>            <td>Scale:</td>         <td>0.24493</td>\n",
       "</tr>\n",
       "</table>\n",
       "<table class=\"simpletable\">\n",
       "<tr>\n",
       "           <td></td>           <th>Coef.</th>  <th>Std.Err.</th>    <th>t</th>     <th>P>|t|</th> <th>[0.025</th>  <th>0.975]</th> \n",
       "</tr>\n",
       "<tr>\n",
       "  <th>Intercept</th>          <td>26.4633</td>  <td>12.6518</td> <td>2.0917</td>  <td>0.0387</td> <td>1.3954</td>  <td>51.5311</td>\n",
       "</tr>\n",
       "<tr>\n",
       "  <th>album_release_date</th> <td>-0.0130</td>  <td>0.0063</td>  <td>-2.0535</td> <td>0.0423</td> <td>-0.0254</td> <td>-0.0005</td>\n",
       "</tr>\n",
       "</table>\n",
       "<table class=\"simpletable\">\n",
       "<tr>\n",
       "     <td>Omnibus:</td>    <td>0.164</td>  <td>Durbin-Watson:</td>    <td>3.021</td>\n",
       "</tr>\n",
       "<tr>\n",
       "  <td>Prob(Omnibus):</td> <td>0.921</td> <td>Jarque-Bera (JB):</td> <td>16.445</td>\n",
       "</tr>\n",
       "<tr>\n",
       "       <td>Skew:</td>     <td>0.088</td>     <td>Prob(JB):</td>      <td>0.000</td>\n",
       "</tr>\n",
       "<tr>\n",
       "     <td>Kurtosis:</td>   <td>1.148</td>  <td>Condition No.:</td>   <td>547575</td>\n",
       "</tr>\n",
       "</table>"
      ],
      "text/plain": [
       "<class 'statsmodels.iolib.summary2.Summary'>\n",
       "\"\"\"\n",
       "                  Results: Ordinary least squares\n",
       "==================================================================\n",
       "Model:               OLS              Adj. R-squared:     0.028   \n",
       "Dependent Variable:  presidency       AIC:                165.1265\n",
       "Date:                2017-09-22 16:33 BIC:                170.5989\n",
       "No. Observations:    114              Log-Likelihood:     -80.563 \n",
       "Df Model:            1                F-statistic:        4.217   \n",
       "Df Residuals:        112              Prob (F-statistic): 0.0423  \n",
       "R-squared:           0.036            Scale:              0.24493 \n",
       "------------------------------------------------------------------\n",
       "                    Coef.  Std.Err.    t    P>|t|   [0.025  0.975]\n",
       "------------------------------------------------------------------\n",
       "Intercept          26.4633  12.6518  2.0917 0.0387  1.3954 51.5311\n",
       "album_release_date -0.0130   0.0063 -2.0535 0.0423 -0.0254 -0.0005\n",
       "------------------------------------------------------------------\n",
       "Omnibus:              0.164        Durbin-Watson:           3.021 \n",
       "Prob(Omnibus):        0.921        Jarque-Bera (JB):        16.445\n",
       "Skew:                 0.088        Prob(JB):                0.000 \n",
       "Kurtosis:             1.148        Condition No.:           547575\n",
       "==================================================================\n",
       "* The condition number is large (5e+05). This might indicate\n",
       "strong multicollinearity or other numerical problems.\n",
       "\"\"\""
      ]
     },
     "execution_count": 31,
     "metadata": {},
     "output_type": "execute_result"
    }
   ],
   "source": [
    "import statsmodels.formula.api as sm\n",
    "result = sm.ols(formula= 'presidency ~ album_release_date',data=sentiment_over_time).fit()\n",
    "result.summary2()"
   ]
  },
  {
   "cell_type": "markdown",
   "metadata": {},
   "source": [
    "Although the p-value looks statistically significant, p < alpha (0.05) the R^2 is bad. The model is not a good fit over hip hop album releases but seems better than chance. "
   ]
  },
  {
   "cell_type": "code",
   "execution_count": 32,
   "metadata": {
    "collapsed": false
   },
   "outputs": [
    {
     "data": {
      "text/html": [
       "<table class=\"simpletable\">\n",
       "<tr>\n",
       "        <td>Model:</td>               <td>OLS</td>         <td>Adj. R-squared:</td>     <td>0.224</td> \n",
       "</tr>\n",
       "<tr>\n",
       "  <td>Dependent Variable:</td>    <td>presidency</td>           <td>AIC:</td>         <td>141.3849</td>\n",
       "</tr>\n",
       "<tr>\n",
       "         <td>Date:</td>        <td>2017-09-22 16:33</td>        <td>BIC:</td>         <td>152.3297</td>\n",
       "</tr>\n",
       "<tr>\n",
       "   <td>No. Observations:</td>         <td>114</td>         <td>Log-Likelihood:</td>    <td>-66.692</td>\n",
       "</tr>\n",
       "<tr>\n",
       "       <td>Df Model:</td>              <td>3</td>           <td>F-statistic:</td>       <td>11.86</td> \n",
       "</tr>\n",
       "<tr>\n",
       "     <td>Df Residuals:</td>           <td>110</td>       <td>Prob (F-statistic):</td> <td>8.62e-07</td>\n",
       "</tr>\n",
       "<tr>\n",
       "      <td>R-squared:</td>            <td>0.244</td>            <td>Scale:</td>         <td>0.19552</td>\n",
       "</tr>\n",
       "</table>\n",
       "<table class=\"simpletable\">\n",
       "<tr>\n",
       "              <td></td>              <th>Coef.</th> <th>Std.Err.</th>    <th>t</th>    <th>P>|t|</th> <th>[0.025</th>  <th>0.975]</th>\n",
       "</tr>\n",
       "<tr>\n",
       "  <th>Intercept</th>                <td>0.1422</td>  <td>0.0842</td>  <td>1.6885</td> <td>0.0942</td> <td>-0.0247</td> <td>0.3090</td>\n",
       "</tr>\n",
       "<tr>\n",
       "  <th>C(sentiment)[T.neutral]</th>  <td>0.1583</td>  <td>0.1034</td>  <td>1.5309</td> <td>0.1287</td> <td>-0.0466</td> <td>0.3633</td>\n",
       "</tr>\n",
       "<tr>\n",
       "  <th>C(sentiment)[T.positive]</th> <td>0.3313</td>  <td>0.1109</td>  <td>2.9866</td> <td>0.0035</td> <td>0.1115</td>  <td>0.5512</td>\n",
       "</tr>\n",
       "<tr>\n",
       "  <th>mentions</th>                 <td>0.0506</td>  <td>0.0122</td>  <td>4.1429</td> <td>0.0001</td> <td>0.0264</td>  <td>0.0748</td>\n",
       "</tr>\n",
       "</table>\n",
       "<table class=\"simpletable\">\n",
       "<tr>\n",
       "     <td>Omnibus:</td>    <td>61.241</td>  <td>Durbin-Watson:</td>   <td>2.502</td>\n",
       "</tr>\n",
       "<tr>\n",
       "  <td>Prob(Omnibus):</td>  <td>0.000</td> <td>Jarque-Bera (JB):</td> <td>9.311</td>\n",
       "</tr>\n",
       "<tr>\n",
       "       <td>Skew:</td>      <td>0.289</td>     <td>Prob(JB):</td>     <td>0.010</td>\n",
       "</tr>\n",
       "<tr>\n",
       "     <td>Kurtosis:</td>    <td>1.725</td>  <td>Condition No.:</td>    <td>18</td>  \n",
       "</tr>\n",
       "</table>"
      ],
      "text/plain": [
       "<class 'statsmodels.iolib.summary2.Summary'>\n",
       "\"\"\"\n",
       "                   Results: Ordinary least squares\n",
       "=====================================================================\n",
       "Model:                OLS               Adj. R-squared:      0.224   \n",
       "Dependent Variable:   presidency        AIC:                 141.3849\n",
       "Date:                 2017-09-22 16:33  BIC:                 152.3297\n",
       "No. Observations:     114               Log-Likelihood:      -66.692 \n",
       "Df Model:             3                 F-statistic:         11.86   \n",
       "Df Residuals:         110               Prob (F-statistic):  8.62e-07\n",
       "R-squared:            0.244             Scale:               0.19552 \n",
       "---------------------------------------------------------------------\n",
       "                         Coef.  Std.Err.   t    P>|t|   [0.025 0.975]\n",
       "---------------------------------------------------------------------\n",
       "Intercept                0.1422   0.0842 1.6885 0.0942 -0.0247 0.3090\n",
       "C(sentiment)[T.neutral]  0.1583   0.1034 1.5309 0.1287 -0.0466 0.3633\n",
       "C(sentiment)[T.positive] 0.3313   0.1109 2.9866 0.0035  0.1115 0.5512\n",
       "mentions                 0.0506   0.0122 4.1429 0.0001  0.0264 0.0748\n",
       "---------------------------------------------------------------------\n",
       "Omnibus:               61.241         Durbin-Watson:            2.502\n",
       "Prob(Omnibus):         0.000          Jarque-Bera (JB):         9.311\n",
       "Skew:                  0.289          Prob(JB):                 0.010\n",
       "Kurtosis:              1.725          Condition No.:            18   \n",
       "=====================================================================\n",
       "\n",
       "\"\"\""
      ]
     },
     "execution_count": 32,
     "metadata": {},
     "output_type": "execute_result"
    }
   ],
   "source": [
    "result = sm.ols(formula= 'presidency ~ C(sentiment) + mentions',data=sentiment_over_time).fit()\n",
    "result.summary2()"
   ]
  },
  {
   "cell_type": "markdown",
   "metadata": {},
   "source": [
    "This model has a much better $R^2$ and the coefficients are more interpretable. The p-values for positive polarity and mentions are significant at $p < 0.05$. The coefficients for positive polarity weigh higher towards a presidency."
   ]
  },
  {
   "cell_type": "markdown",
   "metadata": {},
   "source": [
    "## Candidate mentions - Themes/Subjects over time"
   ]
  },
  {
   "cell_type": "code",
   "execution_count": 33,
   "metadata": {
    "collapsed": false
   },
   "outputs": [
    {
     "data": {
      "text/plain": [
       "array(['money', 'money', 'money', 'money', 'personal', 'personal',\n",
       "       'political', 'political', 'money', 'personal', 'sexual', 'money',\n",
       "       'personal', 'hotel', 'money', 'money', 'political', 'money',\n",
       "       'personal', 'hotel', 'money', 'personal', 'political', 'hotel',\n",
       "       'money', 'personal', 'personal', 'political', 'hotel', 'money',\n",
       "       'personal', 'personal', 'hotel', 'money', 'personal', 'hotel',\n",
       "       'money', 'personal', 'hotel', 'money', 'hotel', 'money', 'personal',\n",
       "       'political', 'The Apprentice', 'hotel', 'money', 'personal',\n",
       "       'personal', 'political', 'The Apprentice', 'hotel', 'money',\n",
       "       'personal', 'political', 'The Apprentice', 'hotel', 'money',\n",
       "       'personal', 'personal', 'The Apprentice', 'hotel', 'money',\n",
       "       'personal', 'personal', 'political', 'hotel', 'money', 'personal',\n",
       "       'political', 'political', 'The Apprentice', 'hotel', 'money',\n",
       "       'money', 'personal', 'political', 'The Apprentice', 'hotel',\n",
       "       'money', 'personal', 'personal', 'political', 'sexual',\n",
       "       'The Apprentice', 'hotel', 'money', 'money', 'personal', 'personal',\n",
       "       'political', 'political', 'The Apprentice', 'hotel', 'money',\n",
       "       'personal', 'personal', 'political', 'power', 'sexual',\n",
       "       'The Apprentice', 'hotel', 'money', 'money', 'personal', 'power',\n",
       "       'The Apprentice', 'hotel', 'money', 'personal', 'political',\n",
       "       'political', 'political', 'political', 'sexual', 'hotel', 'money',\n",
       "       'personal', 'political', 'political'], dtype=object)"
      ]
     },
     "execution_count": 33,
     "metadata": {},
     "output_type": "execute_result"
    }
   ],
   "source": [
    "subject_over_time = df.groupby(['album_release_date', 'theme','candidate']).size().reset_index(name='mentions')\n",
    "subject_over_time.theme.values"
   ]
  },
  {
   "cell_type": "code",
   "execution_count": 34,
   "metadata": {
    "collapsed": false
   },
   "outputs": [
    {
     "data": {
      "text/plain": [
       "<matplotlib.text.Text at 0x11c131210>"
      ]
     },
     "execution_count": 34,
     "metadata": {},
     "output_type": "execute_result"
    },
    {
     "data": {
      "image/png": "[encoded data removed]",
      "text/plain": [
       "<matplotlib.figure.Figure at 0x11b766e10>"
      ]
     },
     "metadata": {},
     "output_type": "display_data"
    }
   ],
   "source": [
    "wealthdf = subject_over_time[subject_over_time.theme == 'money']\n",
    "wealthdf.pivot_table(index='album_release_date', columns='candidate', values='mentions', aggfunc='sum').plot.bar(rot=90, stacked=True,colormap='Paired',figsize=(7,4)).legend(loc='center left', bbox_to_anchor=(1, 0.5))\n",
    "plt.title(\"Candidate mentions of the theme - wealth over time\")"
   ]
  },
  {
   "cell_type": "markdown",
   "metadata": {},
   "source": [
    "As seen above, Donald Trump's persona as a business tycoon has strongly contributed to the hip-hop narrative around him."
   ]
  },
  {
   "cell_type": "code",
   "execution_count": 35,
   "metadata": {
    "collapsed": false
   },
   "outputs": [
    {
     "data": {
      "text/plain": [
       "<matplotlib.text.Text at 0x11c9f9210>"
      ]
     },
     "execution_count": 35,
     "metadata": {},
     "output_type": "execute_result"
    },
    {
     "data": {
      "image/png": "[encoded data removed]",
      "text/plain": [
       "<matplotlib.figure.Figure at 0x11c126650>"
      ]
     },
     "metadata": {},
     "output_type": "display_data"
    }
   ],
   "source": [
    "personaldf = subject_over_time[subject_over_time.theme == 'personal']\n",
    "personaldf.pivot_table(index='album_release_date', columns='candidate', values='mentions', aggfunc='sum').plot.bar(rot=90, stacked=True,colormap='Paired',figsize=(7,4)).legend(loc='center left', bbox_to_anchor=(1, 0.5))\n",
    "plt.title(\"Candidate mentions of the theme - Personal over time\")"
   ]
  },
  {
   "cell_type": "markdown",
   "metadata": {},
   "source": [
    "Similar to the sentiment over time, the hip-hop narrative around Hillary Clinton in 2008 seems largely around her personal life. Overall, the mentions of personal themes in the lyrics are highest for Clinton than any other candidate."
   ]
  },
  {
   "cell_type": "code",
   "execution_count": 36,
   "metadata": {
    "collapsed": false
   },
   "outputs": [
    {
     "data": {
      "text/plain": [
       "<matplotlib.text.Text at 0x11cec8050>"
      ]
     },
     "execution_count": 36,
     "metadata": {},
     "output_type": "execute_result"
    },
    {
     "data": {
      "image/png": "[encoded data removed]",
      "text/plain": [
       "<matplotlib.figure.Figure at 0x11cacffd0>"
      ]
     },
     "metadata": {},
     "output_type": "display_data"
    }
   ],
   "source": [
    "politicsdf = subject_over_time[subject_over_time.theme == 'political']\n",
    "politicsdf.pivot_table(index='album_release_date', columns='candidate', values='mentions', aggfunc='sum').plot.bar(rot=90, stacked=True,colormap='Paired',figsize=(7,4)).legend(loc='center left', bbox_to_anchor=(1, 0.5))\n",
    "plt.title(\"Candidate mentions of the theme - Political over time\")"
   ]
  },
  {
   "cell_type": "markdown",
   "metadata": {},
   "source": [
    "Before 2015, there seem to be no political themes in the hip-hop narrative around Donald Trump. \n",
    "Let's check if the themes around candidate mentions in hip-hop lyrics are a predictor of presidency."
   ]
  },
  {
   "cell_type": "code",
   "execution_count": 37,
   "metadata": {
    "collapsed": false
   },
   "outputs": [
    {
     "data": {
      "text/html": [
       "<div>\n",
       "<table border=\"1\" class=\"dataframe\">\n",
       "  <thead>\n",
       "    <tr style=\"text-align: right;\">\n",
       "      <th></th>\n",
       "      <th>album_release_date</th>\n",
       "      <th>theme</th>\n",
       "      <th>candidate</th>\n",
       "      <th>mentions</th>\n",
       "      <th>presidency</th>\n",
       "    </tr>\n",
       "  </thead>\n",
       "  <tbody>\n",
       "    <tr>\n",
       "      <th>0</th>\n",
       "      <td>1989</td>\n",
       "      <td>money</td>\n",
       "      <td>Donald Trump</td>\n",
       "      <td>1</td>\n",
       "      <td>1</td>\n",
       "    </tr>\n",
       "    <tr>\n",
       "      <th>1</th>\n",
       "      <td>1990</td>\n",
       "      <td>money</td>\n",
       "      <td>Donald Trump</td>\n",
       "      <td>2</td>\n",
       "      <td>1</td>\n",
       "    </tr>\n",
       "    <tr>\n",
       "      <th>2</th>\n",
       "      <td>1991</td>\n",
       "      <td>money</td>\n",
       "      <td>Donald Trump</td>\n",
       "      <td>2</td>\n",
       "      <td>1</td>\n",
       "    </tr>\n",
       "    <tr>\n",
       "      <th>3</th>\n",
       "      <td>1992</td>\n",
       "      <td>money</td>\n",
       "      <td>Donald Trump</td>\n",
       "      <td>2</td>\n",
       "      <td>1</td>\n",
       "    </tr>\n",
       "    <tr>\n",
       "      <th>4</th>\n",
       "      <td>1992</td>\n",
       "      <td>personal</td>\n",
       "      <td>Donald Trump</td>\n",
       "      <td>1</td>\n",
       "      <td>1</td>\n",
       "    </tr>\n",
       "  </tbody>\n",
       "</table>\n",
       "</div>"
      ],
      "text/plain": [
       "   album_release_date     theme     candidate  mentions  presidency\n",
       "0                1989     money  Donald Trump         1           1\n",
       "1                1990     money  Donald Trump         2           1\n",
       "2                1991     money  Donald Trump         2           1\n",
       "3                1992     money  Donald Trump         2           1\n",
       "4                1992  personal  Donald Trump         1           1"
      ]
     },
     "execution_count": 37,
     "metadata": {},
     "output_type": "execute_result"
    }
   ],
   "source": [
    "subject_over_time['presidency'] = subject_over_time.apply (lambda row: label_president (row),axis=1)\n",
    "subject_over_time.head()"
   ]
  },
  {
   "cell_type": "code",
   "execution_count": 38,
   "metadata": {
    "collapsed": false
   },
   "outputs": [
    {
     "data": {
      "text/html": [
       "<table class=\"simpletable\">\n",
       "<tr>\n",
       "        <td>Model:</td>               <td>OLS</td>         <td>Adj. R-squared:</td>     <td>0.448</td> \n",
       "</tr>\n",
       "<tr>\n",
       "  <td>Dependent Variable:</td>    <td>presidency</td>           <td>AIC:</td>         <td>104.7055</td>\n",
       "</tr>\n",
       "<tr>\n",
       "         <td>Date:</td>        <td>2017-09-22 16:34</td>        <td>BIC:</td>         <td>129.7929</td>\n",
       "</tr>\n",
       "<tr>\n",
       "   <td>No. Observations:</td>         <td>120</td>         <td>Log-Likelihood:</td>    <td>-43.353</td>\n",
       "</tr>\n",
       "<tr>\n",
       "       <td>Df Model:</td>              <td>8</td>           <td>F-statistic:</td>       <td>13.09</td> \n",
       "</tr>\n",
       "<tr>\n",
       "     <td>Df Residuals:</td>           <td>111</td>       <td>Prob (F-statistic):</td> <td>3.69e-13</td>\n",
       "</tr>\n",
       "<tr>\n",
       "      <td>R-squared:</td>            <td>0.485</td>            <td>Scale:</td>         <td>0.13037</td>\n",
       "</tr>\n",
       "</table>\n",
       "<table class=\"simpletable\">\n",
       "<tr>\n",
       "            <td></td>             <th>Coef.</th>  <th>Std.Err.</th>    <th>t</th>     <th>P>|t|</th> <th>[0.025</th>  <th>0.975]</th> \n",
       "</tr>\n",
       "<tr>\n",
       "  <th>Intercept</th>             <td>13.5576</td>  <td>10.4483</td> <td>1.2976</td>  <td>0.1971</td> <td>-7.1464</td> <td>34.2616</td>\n",
       "</tr>\n",
       "<tr>\n",
       "  <th>C(theme)[T.hotel]</th>     <td>-0.0971</td>  <td>0.1448</td>  <td>-0.6706</td> <td>0.5039</td> <td>-0.3840</td> <td>0.1898</td> \n",
       "</tr>\n",
       "<tr>\n",
       "  <th>C(theme)[T.money]</th>     <td>-0.2792</td>  <td>0.1409</td>  <td>-1.9822</td> <td>0.0499</td> <td>-0.5583</td> <td>-0.0001</td>\n",
       "</tr>\n",
       "<tr>\n",
       "  <th>C(theme)[T.personal]</th>  <td>-0.6316</td>  <td>0.1336</td>  <td>-4.7260</td> <td>0.0000</td> <td>-0.8965</td> <td>-0.3668</td>\n",
       "</tr>\n",
       "<tr>\n",
       "  <th>C(theme)[T.political]</th> <td>-0.8592</td>  <td>0.1389</td>  <td>-6.1870</td> <td>0.0000</td> <td>-1.1344</td> <td>-0.5840</td>\n",
       "</tr>\n",
       "<tr>\n",
       "  <th>C(theme)[T.power]</th>     <td>0.0584</td>   <td>0.2809</td>  <td>0.2081</td>  <td>0.8355</td> <td>-0.4981</td> <td>0.6150</td> \n",
       "</tr>\n",
       "<tr>\n",
       "  <th>C(theme)[T.sexual]</th>    <td>-0.7246</td>  <td>0.2140</td>  <td>-3.3862</td> <td>0.0010</td> <td>-1.1486</td> <td>-0.3006</td>\n",
       "</tr>\n",
       "<tr>\n",
       "  <th>mentions</th>              <td>0.0463</td>   <td>0.0160</td>  <td>2.9044</td>  <td>0.0044</td> <td>0.0147</td>  <td>0.0779</td> \n",
       "</tr>\n",
       "<tr>\n",
       "  <th>album_release_date</th>    <td>-0.0063</td>  <td>0.0052</td>  <td>-1.2086</td> <td>0.2294</td> <td>-0.0166</td> <td>0.0040</td> \n",
       "</tr>\n",
       "</table>\n",
       "<table class=\"simpletable\">\n",
       "<tr>\n",
       "     <td>Omnibus:</td>    <td>3.107</td>  <td>Durbin-Watson:</td>    <td>2.243</td>\n",
       "</tr>\n",
       "<tr>\n",
       "  <td>Prob(Omnibus):</td> <td>0.211</td> <td>Jarque-Bera (JB):</td>  <td>2.834</td>\n",
       "</tr>\n",
       "<tr>\n",
       "       <td>Skew:</td>     <td>0.376</td>     <td>Prob(JB):</td>      <td>0.242</td>\n",
       "</tr>\n",
       "<tr>\n",
       "     <td>Kurtosis:</td>   <td>3.026</td>  <td>Condition No.:</td>   <td>635913</td>\n",
       "</tr>\n",
       "</table>"
      ],
      "text/plain": [
       "<class 'statsmodels.iolib.summary2.Summary'>\n",
       "\"\"\"\n",
       "                   Results: Ordinary least squares\n",
       "=====================================================================\n",
       "Model:                OLS               Adj. R-squared:      0.448   \n",
       "Dependent Variable:   presidency        AIC:                 104.7055\n",
       "Date:                 2017-09-22 16:34  BIC:                 129.7929\n",
       "No. Observations:     120               Log-Likelihood:      -43.353 \n",
       "Df Model:             8                 F-statistic:         13.09   \n",
       "Df Residuals:         111               Prob (F-statistic):  3.69e-13\n",
       "R-squared:            0.485             Scale:               0.13037 \n",
       "---------------------------------------------------------------------\n",
       "                       Coef.  Std.Err.    t    P>|t|   [0.025  0.975]\n",
       "---------------------------------------------------------------------\n",
       "Intercept             13.5576  10.4483  1.2976 0.1971 -7.1464 34.2616\n",
       "C(theme)[T.hotel]     -0.0971   0.1448 -0.6706 0.5039 -0.3840  0.1898\n",
       "C(theme)[T.money]     -0.2792   0.1409 -1.9822 0.0499 -0.5583 -0.0001\n",
       "C(theme)[T.personal]  -0.6316   0.1336 -4.7260 0.0000 -0.8965 -0.3668\n",
       "C(theme)[T.political] -0.8592   0.1389 -6.1870 0.0000 -1.1344 -0.5840\n",
       "C(theme)[T.power]      0.0584   0.2809  0.2081 0.8355 -0.4981  0.6150\n",
       "C(theme)[T.sexual]    -0.7246   0.2140 -3.3862 0.0010 -1.1486 -0.3006\n",
       "mentions               0.0463   0.0160  2.9044 0.0044  0.0147  0.0779\n",
       "album_release_date    -0.0063   0.0052 -1.2086 0.2294 -0.0166  0.0040\n",
       "---------------------------------------------------------------------\n",
       "Omnibus:               3.107         Durbin-Watson:            2.243 \n",
       "Prob(Omnibus):         0.211         Jarque-Bera (JB):         2.834 \n",
       "Skew:                  0.376         Prob(JB):                 0.242 \n",
       "Kurtosis:              3.026         Condition No.:            635913\n",
       "=====================================================================\n",
       "* The condition number is large (6e+05). This might indicate\n",
       "strong multicollinearity or other numerical problems.\n",
       "\"\"\""
      ]
     },
     "execution_count": 38,
     "metadata": {},
     "output_type": "execute_result"
    }
   ],
   "source": [
    "result1 = sm.ols(formula='presidency ~ C(theme) + mentions + album_release_date', data=subject_over_time).fit()\n",
    "result1.summary2()"
   ]
  },
  {
   "cell_type": "markdown",
   "metadata": {},
   "source": [
    "This appears to be a much better model. The $R^2$, F-statistic and $P(f-stat) << 0.01$. The p-values for money and sexual themes in hip-hop lyrics appear to be statistically significant. Let's check the correlation of residuals."
   ]
  },
  {
   "cell_type": "code",
   "execution_count": 39,
   "metadata": {
    "collapsed": false
   },
   "outputs": [
    {
     "data": {
      "text/plain": [
       "SpearmanrResult(correlation=0.81222060273457408, pvalue=2.1539648297858562e-29)"
      ]
     },
     "execution_count": 39,
     "metadata": {},
     "output_type": "execute_result"
    }
   ],
   "source": [
    "from scipy.stats import spearmanr, pearsonr\n",
    "spearmanr(subject_over_time['presidency'],result1.resid)"
   ]
  },
  {
   "cell_type": "markdown",
   "metadata": {},
   "source": [
    "correlation = 0.82 Strong evidence of correlated errors. This means that the IID assumption is likely violated, so our $p$-values are overconfident."
   ]
  },
  {
   "cell_type": "markdown",
   "metadata": {},
   "source": [
    "Statistically speaking then, hip-hop lyrics have no connection to the presidency. Next steps-  check correlated errors."
   ]
  }
 ],
 "metadata": {
  "anaconda-cloud": {},
  "kernelspec": {
   "display_name": "Python [conda env:py27]",
   "language": "python",
   "name": "conda-env-py27-py"
  },
  "language_info": {
   "codemirror_mode": {
    "name": "ipython",
    "version": 2
   },
   "file_extension": ".py",
   "mimetype": "text/x-python",
   "name": "python",
   "nbconvert_exporter": "python",
   "pygments_lexer": "ipython2",
   "version": "2.7.12"
  }
 },
 "nbformat": 4,
 "nbformat_minor": 1
}
